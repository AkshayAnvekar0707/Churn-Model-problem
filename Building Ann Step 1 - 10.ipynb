{
 "cells": [
  {
   "cell_type": "markdown",
   "metadata": {},
   "source": [
    "# Install Keras, tensorflow, theano libraries in your Environment"
   ]
  },
  {
   "cell_type": "markdown",
   "metadata": {},
   "source": [
    "## Part 1 . Data Preprocessing"
   ]
  },
  {
   "cell_type": "markdown",
   "metadata": {},
   "source": [
    "## 1. Importing Libraries"
   ]
  },
  {
   "cell_type": "code",
   "execution_count": 1,
   "metadata": {},
   "outputs": [],
   "source": [
    "import numpy as np\n",
    "import matplotlib.pyplot as plt\n",
    "import pandas as pd"
   ]
  },
  {
   "cell_type": "markdown",
   "metadata": {},
   "source": [
    "## 2. Import Datasets"
   ]
  },
  {
   "cell_type": "code",
   "execution_count": 2,
   "metadata": {},
   "outputs": [
    {
     "data": {
      "text/html": [
       "<div>\n",
       "<style scoped>\n",
       "    .dataframe tbody tr th:only-of-type {\n",
       "        vertical-align: middle;\n",
       "    }\n",
       "\n",
       "    .dataframe tbody tr th {\n",
       "        vertical-align: top;\n",
       "    }\n",
       "\n",
       "    .dataframe thead th {\n",
       "        text-align: right;\n",
       "    }\n",
       "</style>\n",
       "<table border=\"1\" class=\"dataframe\">\n",
       "  <thead>\n",
       "    <tr style=\"text-align: right;\">\n",
       "      <th></th>\n",
       "      <th>RowNumber</th>\n",
       "      <th>CustomerId</th>\n",
       "      <th>Surname</th>\n",
       "      <th>CreditScore</th>\n",
       "      <th>Geography</th>\n",
       "      <th>Gender</th>\n",
       "      <th>Age</th>\n",
       "      <th>Tenure</th>\n",
       "      <th>Balance</th>\n",
       "      <th>NumOfProducts</th>\n",
       "      <th>HasCrCard</th>\n",
       "      <th>IsActiveMember</th>\n",
       "      <th>EstimatedSalary</th>\n",
       "      <th>Exited</th>\n",
       "    </tr>\n",
       "  </thead>\n",
       "  <tbody>\n",
       "    <tr>\n",
       "      <td>0</td>\n",
       "      <td>1</td>\n",
       "      <td>15634602</td>\n",
       "      <td>Hargrave</td>\n",
       "      <td>619</td>\n",
       "      <td>France</td>\n",
       "      <td>Female</td>\n",
       "      <td>42</td>\n",
       "      <td>2</td>\n",
       "      <td>0.00</td>\n",
       "      <td>1</td>\n",
       "      <td>1</td>\n",
       "      <td>1</td>\n",
       "      <td>101348.88</td>\n",
       "      <td>1</td>\n",
       "    </tr>\n",
       "    <tr>\n",
       "      <td>1</td>\n",
       "      <td>2</td>\n",
       "      <td>15647311</td>\n",
       "      <td>Hill</td>\n",
       "      <td>608</td>\n",
       "      <td>Spain</td>\n",
       "      <td>Female</td>\n",
       "      <td>41</td>\n",
       "      <td>1</td>\n",
       "      <td>83807.86</td>\n",
       "      <td>1</td>\n",
       "      <td>0</td>\n",
       "      <td>1</td>\n",
       "      <td>112542.58</td>\n",
       "      <td>0</td>\n",
       "    </tr>\n",
       "    <tr>\n",
       "      <td>2</td>\n",
       "      <td>3</td>\n",
       "      <td>15619304</td>\n",
       "      <td>Onio</td>\n",
       "      <td>502</td>\n",
       "      <td>France</td>\n",
       "      <td>Female</td>\n",
       "      <td>42</td>\n",
       "      <td>8</td>\n",
       "      <td>159660.80</td>\n",
       "      <td>3</td>\n",
       "      <td>1</td>\n",
       "      <td>0</td>\n",
       "      <td>113931.57</td>\n",
       "      <td>1</td>\n",
       "    </tr>\n",
       "    <tr>\n",
       "      <td>3</td>\n",
       "      <td>4</td>\n",
       "      <td>15701354</td>\n",
       "      <td>Boni</td>\n",
       "      <td>699</td>\n",
       "      <td>France</td>\n",
       "      <td>Female</td>\n",
       "      <td>39</td>\n",
       "      <td>1</td>\n",
       "      <td>0.00</td>\n",
       "      <td>2</td>\n",
       "      <td>0</td>\n",
       "      <td>0</td>\n",
       "      <td>93826.63</td>\n",
       "      <td>0</td>\n",
       "    </tr>\n",
       "    <tr>\n",
       "      <td>4</td>\n",
       "      <td>5</td>\n",
       "      <td>15737888</td>\n",
       "      <td>Mitchell</td>\n",
       "      <td>850</td>\n",
       "      <td>Spain</td>\n",
       "      <td>Female</td>\n",
       "      <td>43</td>\n",
       "      <td>2</td>\n",
       "      <td>125510.82</td>\n",
       "      <td>1</td>\n",
       "      <td>1</td>\n",
       "      <td>1</td>\n",
       "      <td>79084.10</td>\n",
       "      <td>0</td>\n",
       "    </tr>\n",
       "    <tr>\n",
       "      <td>...</td>\n",
       "      <td>...</td>\n",
       "      <td>...</td>\n",
       "      <td>...</td>\n",
       "      <td>...</td>\n",
       "      <td>...</td>\n",
       "      <td>...</td>\n",
       "      <td>...</td>\n",
       "      <td>...</td>\n",
       "      <td>...</td>\n",
       "      <td>...</td>\n",
       "      <td>...</td>\n",
       "      <td>...</td>\n",
       "      <td>...</td>\n",
       "      <td>...</td>\n",
       "    </tr>\n",
       "    <tr>\n",
       "      <td>9995</td>\n",
       "      <td>9996</td>\n",
       "      <td>15606229</td>\n",
       "      <td>Obijiaku</td>\n",
       "      <td>771</td>\n",
       "      <td>France</td>\n",
       "      <td>Male</td>\n",
       "      <td>39</td>\n",
       "      <td>5</td>\n",
       "      <td>0.00</td>\n",
       "      <td>2</td>\n",
       "      <td>1</td>\n",
       "      <td>0</td>\n",
       "      <td>96270.64</td>\n",
       "      <td>0</td>\n",
       "    </tr>\n",
       "    <tr>\n",
       "      <td>9996</td>\n",
       "      <td>9997</td>\n",
       "      <td>15569892</td>\n",
       "      <td>Johnstone</td>\n",
       "      <td>516</td>\n",
       "      <td>France</td>\n",
       "      <td>Male</td>\n",
       "      <td>35</td>\n",
       "      <td>10</td>\n",
       "      <td>57369.61</td>\n",
       "      <td>1</td>\n",
       "      <td>1</td>\n",
       "      <td>1</td>\n",
       "      <td>101699.77</td>\n",
       "      <td>0</td>\n",
       "    </tr>\n",
       "    <tr>\n",
       "      <td>9997</td>\n",
       "      <td>9998</td>\n",
       "      <td>15584532</td>\n",
       "      <td>Liu</td>\n",
       "      <td>709</td>\n",
       "      <td>France</td>\n",
       "      <td>Female</td>\n",
       "      <td>36</td>\n",
       "      <td>7</td>\n",
       "      <td>0.00</td>\n",
       "      <td>1</td>\n",
       "      <td>0</td>\n",
       "      <td>1</td>\n",
       "      <td>42085.58</td>\n",
       "      <td>1</td>\n",
       "    </tr>\n",
       "    <tr>\n",
       "      <td>9998</td>\n",
       "      <td>9999</td>\n",
       "      <td>15682355</td>\n",
       "      <td>Sabbatini</td>\n",
       "      <td>772</td>\n",
       "      <td>Germany</td>\n",
       "      <td>Male</td>\n",
       "      <td>42</td>\n",
       "      <td>3</td>\n",
       "      <td>75075.31</td>\n",
       "      <td>2</td>\n",
       "      <td>1</td>\n",
       "      <td>0</td>\n",
       "      <td>92888.52</td>\n",
       "      <td>1</td>\n",
       "    </tr>\n",
       "    <tr>\n",
       "      <td>9999</td>\n",
       "      <td>10000</td>\n",
       "      <td>15628319</td>\n",
       "      <td>Walker</td>\n",
       "      <td>792</td>\n",
       "      <td>France</td>\n",
       "      <td>Female</td>\n",
       "      <td>28</td>\n",
       "      <td>4</td>\n",
       "      <td>130142.79</td>\n",
       "      <td>1</td>\n",
       "      <td>1</td>\n",
       "      <td>0</td>\n",
       "      <td>38190.78</td>\n",
       "      <td>0</td>\n",
       "    </tr>\n",
       "  </tbody>\n",
       "</table>\n",
       "<p>10000 rows × 14 columns</p>\n",
       "</div>"
      ],
      "text/plain": [
       "      RowNumber  CustomerId    Surname  CreditScore Geography  Gender  Age  \\\n",
       "0             1    15634602   Hargrave          619    France  Female   42   \n",
       "1             2    15647311       Hill          608     Spain  Female   41   \n",
       "2             3    15619304       Onio          502    France  Female   42   \n",
       "3             4    15701354       Boni          699    France  Female   39   \n",
       "4             5    15737888   Mitchell          850     Spain  Female   43   \n",
       "...         ...         ...        ...          ...       ...     ...  ...   \n",
       "9995       9996    15606229   Obijiaku          771    France    Male   39   \n",
       "9996       9997    15569892  Johnstone          516    France    Male   35   \n",
       "9997       9998    15584532        Liu          709    France  Female   36   \n",
       "9998       9999    15682355  Sabbatini          772   Germany    Male   42   \n",
       "9999      10000    15628319     Walker          792    France  Female   28   \n",
       "\n",
       "      Tenure    Balance  NumOfProducts  HasCrCard  IsActiveMember  \\\n",
       "0          2       0.00              1          1               1   \n",
       "1          1   83807.86              1          0               1   \n",
       "2          8  159660.80              3          1               0   \n",
       "3          1       0.00              2          0               0   \n",
       "4          2  125510.82              1          1               1   \n",
       "...      ...        ...            ...        ...             ...   \n",
       "9995       5       0.00              2          1               0   \n",
       "9996      10   57369.61              1          1               1   \n",
       "9997       7       0.00              1          0               1   \n",
       "9998       3   75075.31              2          1               0   \n",
       "9999       4  130142.79              1          1               0   \n",
       "\n",
       "      EstimatedSalary  Exited  \n",
       "0           101348.88       1  \n",
       "1           112542.58       0  \n",
       "2           113931.57       1  \n",
       "3            93826.63       0  \n",
       "4            79084.10       0  \n",
       "...               ...     ...  \n",
       "9995         96270.64       0  \n",
       "9996        101699.77       0  \n",
       "9997         42085.58       1  \n",
       "9998         92888.52       1  \n",
       "9999         38190.78       0  \n",
       "\n",
       "[10000 rows x 14 columns]"
      ]
     },
     "execution_count": 2,
     "metadata": {},
     "output_type": "execute_result"
    }
   ],
   "source": [
    "dataset = pd.read_csv(\"Churn_Modelling.csv\")\n",
    "dataset"
   ]
  },
  {
   "cell_type": "code",
   "execution_count": 3,
   "metadata": {},
   "outputs": [
    {
     "name": "stdout",
     "output_type": "stream",
     "text": [
      "[[619 'France' 'Female' ... 1 1 101348.88]\n",
      " [608 'Spain' 'Female' ... 0 1 112542.58]\n",
      " [502 'France' 'Female' ... 1 0 113931.57]\n",
      " ...\n",
      " [709 'France' 'Female' ... 0 1 42085.58]\n",
      " [772 'Germany' 'Male' ... 1 0 92888.52]\n",
      " [792 'France' 'Female' ... 1 0 38190.78]]\n"
     ]
    }
   ],
   "source": [
    "# Build a matrix X(Independent variables) leaving the unique identifiers\n",
    "X = dataset.iloc[:,3:13].values\n",
    "print(X)"
   ]
  },
  {
   "cell_type": "code",
   "execution_count": 4,
   "metadata": {},
   "outputs": [
    {
     "data": {
      "text/plain": [
       "array([1, 0, 1, ..., 1, 1, 0], dtype=int64)"
      ]
     },
     "execution_count": 4,
     "metadata": {},
     "output_type": "execute_result"
    }
   ],
   "source": [
    "y = dataset.iloc[:,13].values\n",
    "y"
   ]
  },
  {
   "cell_type": "markdown",
   "metadata": {},
   "source": [
    "## 3. Encoding the categorical variable present in X\n",
    "- We can perform dummy variable encoding by splitting categorical an numerical variable \n",
    "### OR\n",
    "- Perform label encoding on Categorical varibale columns and then perform one hot encoding "
   ]
  },
  {
   "cell_type": "code",
   "execution_count": 5,
   "metadata": {},
   "outputs": [
    {
     "name": "stdout",
     "output_type": "stream",
     "text": [
      "[[619 0 'Female' ... 1 1 101348.88]\n",
      " [608 2 'Female' ... 0 1 112542.58]\n",
      " [502 0 'Female' ... 1 0 113931.57]\n",
      " ...\n",
      " [709 0 'Female' ... 0 1 42085.58]\n",
      " [772 1 'Male' ... 1 0 92888.52]\n",
      " [792 0 'Female' ... 1 0 38190.78]]\n"
     ]
    }
   ],
   "source": [
    "# Label Encoding on Geograpy\n",
    "from sklearn.preprocessing import LabelEncoder, OneHotEncoder\n",
    "LabelEncoder_X_1 = LabelEncoder()\n",
    "X[:, 1] = LabelEncoder_X_1.fit_transform(X[:, 1])\n",
    "print(X)"
   ]
  },
  {
   "cell_type": "code",
   "execution_count": 6,
   "metadata": {},
   "outputs": [
    {
     "name": "stdout",
     "output_type": "stream",
     "text": [
      "[[619 0 0 ... 1 1 101348.88]\n",
      " [608 2 0 ... 0 1 112542.58]\n",
      " [502 0 0 ... 1 0 113931.57]\n",
      " ...\n",
      " [709 0 0 ... 0 1 42085.58]\n",
      " [772 1 1 ... 1 0 92888.52]\n",
      " [792 0 0 ... 1 0 38190.78]]\n"
     ]
    }
   ],
   "source": [
    "# Label Encoding on Gender\n",
    "LabelEncoder_X_2 = LabelEncoder()\n",
    "X[:, 2] = LabelEncoder_X_2.fit_transform(X[:, 2])\n",
    "print(X)"
   ]
  },
  {
   "cell_type": "code",
   "execution_count": 7,
   "metadata": {},
   "outputs": [
    {
     "name": "stdout",
     "output_type": "stream",
     "text": [
      "[[1.0000000e+00 0.0000000e+00 0.0000000e+00 ... 1.0000000e+00\n",
      "  1.0000000e+00 1.0134888e+05]\n",
      " [0.0000000e+00 0.0000000e+00 1.0000000e+00 ... 0.0000000e+00\n",
      "  1.0000000e+00 1.1254258e+05]\n",
      " [1.0000000e+00 0.0000000e+00 0.0000000e+00 ... 1.0000000e+00\n",
      "  0.0000000e+00 1.1393157e+05]\n",
      " ...\n",
      " [1.0000000e+00 0.0000000e+00 0.0000000e+00 ... 0.0000000e+00\n",
      "  1.0000000e+00 4.2085580e+04]\n",
      " [0.0000000e+00 1.0000000e+00 0.0000000e+00 ... 1.0000000e+00\n",
      "  0.0000000e+00 9.2888520e+04]\n",
      " [1.0000000e+00 0.0000000e+00 0.0000000e+00 ... 1.0000000e+00\n",
      "  0.0000000e+00 3.8190780e+04]]\n"
     ]
    },
    {
     "name": "stderr",
     "output_type": "stream",
     "text": [
      "C:\\Users\\Dell\\Anaconda3\\lib\\site-packages\\sklearn\\preprocessing\\_encoders.py:415: FutureWarning: The handling of integer data will change in version 0.22. Currently, the categories are determined based on the range [0, max(values)], while in the future they will be determined based on the unique values.\n",
      "If you want the future behaviour and silence this warning, you can specify \"categories='auto'\".\n",
      "In case you used a LabelEncoder before this OneHotEncoder to convert the categories to integers, then you can now use the OneHotEncoder directly.\n",
      "  warnings.warn(msg, FutureWarning)\n",
      "C:\\Users\\Dell\\Anaconda3\\lib\\site-packages\\sklearn\\preprocessing\\_encoders.py:451: DeprecationWarning: The 'categorical_features' keyword is deprecated in version 0.20 and will be removed in 0.22. You can use the ColumnTransformer instead.\n",
      "  \"use the ColumnTransformer instead.\", DeprecationWarning)\n"
     ]
    }
   ],
   "source": [
    "# Perform one hot encoding on geaograpy so all region means equal\n",
    "onehotencoder = OneHotEncoder(categorical_features = [1])\n",
    "X = onehotencoder.fit_transform(X).toarray()\n",
    "print(X)"
   ]
  },
  {
   "cell_type": "code",
   "execution_count": 8,
   "metadata": {},
   "outputs": [
    {
     "name": "stdout",
     "output_type": "stream",
     "text": [
      "        0    1    2      3    4     5     6          7    8    9   10  \\\n",
      "0     1.0  0.0  0.0  619.0  0.0  42.0   2.0       0.00  1.0  1.0  1.0   \n",
      "1     0.0  0.0  1.0  608.0  0.0  41.0   1.0   83807.86  1.0  0.0  1.0   \n",
      "2     1.0  0.0  0.0  502.0  0.0  42.0   8.0  159660.80  3.0  1.0  0.0   \n",
      "3     1.0  0.0  0.0  699.0  0.0  39.0   1.0       0.00  2.0  0.0  0.0   \n",
      "4     0.0  0.0  1.0  850.0  0.0  43.0   2.0  125510.82  1.0  1.0  1.0   \n",
      "...   ...  ...  ...    ...  ...   ...   ...        ...  ...  ...  ...   \n",
      "9995  1.0  0.0  0.0  771.0  1.0  39.0   5.0       0.00  2.0  1.0  0.0   \n",
      "9996  1.0  0.0  0.0  516.0  1.0  35.0  10.0   57369.61  1.0  1.0  1.0   \n",
      "9997  1.0  0.0  0.0  709.0  0.0  36.0   7.0       0.00  1.0  0.0  1.0   \n",
      "9998  0.0  1.0  0.0  772.0  1.0  42.0   3.0   75075.31  2.0  1.0  0.0   \n",
      "9999  1.0  0.0  0.0  792.0  0.0  28.0   4.0  130142.79  1.0  1.0  0.0   \n",
      "\n",
      "             11  \n",
      "0     101348.88  \n",
      "1     112542.58  \n",
      "2     113931.57  \n",
      "3      93826.63  \n",
      "4      79084.10  \n",
      "...         ...  \n",
      "9995   96270.64  \n",
      "9996  101699.77  \n",
      "9997   42085.58  \n",
      "9998   92888.52  \n",
      "9999   38190.78  \n",
      "\n",
      "[10000 rows x 12 columns]\n"
     ]
    }
   ],
   "source": [
    "#Create a DataFrame\n",
    "df = pd.DataFrame(X)\n",
    "print(df)"
   ]
  },
  {
   "cell_type": "code",
   "execution_count": 9,
   "metadata": {},
   "outputs": [],
   "source": [
    "X = X[:, 1:] # Removing the first column as not required"
   ]
  },
  {
   "cell_type": "code",
   "execution_count": 10,
   "metadata": {},
   "outputs": [
    {
     "name": "stdout",
     "output_type": "stream",
     "text": [
      "        0    1      2    3     4     5          6    7    8    9         10\n",
      "0     0.0  0.0  619.0  0.0  42.0   2.0       0.00  1.0  1.0  1.0  101348.88\n",
      "1     0.0  1.0  608.0  0.0  41.0   1.0   83807.86  1.0  0.0  1.0  112542.58\n",
      "2     0.0  0.0  502.0  0.0  42.0   8.0  159660.80  3.0  1.0  0.0  113931.57\n",
      "3     0.0  0.0  699.0  0.0  39.0   1.0       0.00  2.0  0.0  0.0   93826.63\n",
      "4     0.0  1.0  850.0  0.0  43.0   2.0  125510.82  1.0  1.0  1.0   79084.10\n",
      "...   ...  ...    ...  ...   ...   ...        ...  ...  ...  ...        ...\n",
      "9995  0.0  0.0  771.0  1.0  39.0   5.0       0.00  2.0  1.0  0.0   96270.64\n",
      "9996  0.0  0.0  516.0  1.0  35.0  10.0   57369.61  1.0  1.0  1.0  101699.77\n",
      "9997  0.0  0.0  709.0  0.0  36.0   7.0       0.00  1.0  0.0  1.0   42085.58\n",
      "9998  1.0  0.0  772.0  1.0  42.0   3.0   75075.31  2.0  1.0  0.0   92888.52\n",
      "9999  0.0  0.0  792.0  0.0  28.0   4.0  130142.79  1.0  1.0  0.0   38190.78\n",
      "\n",
      "[10000 rows x 11 columns]\n"
     ]
    }
   ],
   "source": [
    "#Create a DataFrame\n",
    "df = pd.DataFrame(X)\n",
    "print(df)"
   ]
  },
  {
   "cell_type": "markdown",
   "metadata": {},
   "source": [
    "### As y is already is numerical format(0,1) no need to encode if y was categorical then need to encode"
   ]
  },
  {
   "cell_type": "markdown",
   "metadata": {},
   "source": [
    "## 4. Splitting the dataset"
   ]
  },
  {
   "cell_type": "code",
   "execution_count": 11,
   "metadata": {},
   "outputs": [],
   "source": [
    "from sklearn.model_selection import train_test_split\n",
    "X_train, X_test, y_train, y_test = train_test_split(X, y, test_size = 0.2, random_state = 0)"
   ]
  },
  {
   "cell_type": "markdown",
   "metadata": {},
   "source": [
    "## 5. Feature Scaling\n",
    "- We dont want One IV domination over other IV So Feature scaling\n",
    "- Also as we do lot of computation and parellel computation it is necessary to do scaling"
   ]
  },
  {
   "cell_type": "code",
   "execution_count": 12,
   "metadata": {},
   "outputs": [],
   "source": [
    "# Feature Scaling\n",
    "from sklearn.preprocessing import StandardScaler\n",
    "sc = StandardScaler()\n",
    "X_train = sc.fit_transform(X_train)\n",
    "X_test = sc.transform(X_test)"
   ]
  },
  {
   "cell_type": "markdown",
   "metadata": {},
   "source": [
    "# Part 2 :- Building an ANN"
   ]
  },
  {
   "cell_type": "markdown",
   "metadata": {},
   "source": [
    "## Importing Keras and the modules:- Sequential and Dense\n",
    "## Sequential Module :- Initialize the NN\n",
    "## Dense Module :- Build the layers of ANN\n",
    "- First we will initialize the neural network and then we will build the layers of ANN"
   ]
  },
  {
   "cell_type": "code",
   "execution_count": 13,
   "metadata": {},
   "outputs": [
    {
     "name": "stderr",
     "output_type": "stream",
     "text": [
      "Using TensorFlow backend.\n"
     ]
    }
   ],
   "source": [
    "import keras\n",
    "from keras.models import Sequential\n",
    "from keras.layers import Dense"
   ]
  },
  {
   "cell_type": "code",
   "execution_count": 14,
   "metadata": {},
   "outputs": [
    {
     "name": "stdout",
     "output_type": "stream",
     "text": [
      "WARNING:tensorflow:From C:\\Users\\Dell\\Anaconda3\\lib\\site-packages\\keras\\backend\\tensorflow_backend.py:74: The name tf.get_default_graph is deprecated. Please use tf.compat.v1.get_default_graph instead.\n",
      "\n"
     ]
    }
   ],
   "source": [
    "# Initialising the layers of ANN\n",
    "classifier = Sequential()"
   ]
  },
  {
   "cell_type": "code",
   "execution_count": 15,
   "metadata": {},
   "outputs": [
    {
     "name": "stdout",
     "output_type": "stream",
     "text": [
      "WARNING:tensorflow:From C:\\Users\\Dell\\Anaconda3\\lib\\site-packages\\keras\\backend\\tensorflow_backend.py:517: The name tf.placeholder is deprecated. Please use tf.compat.v1.placeholder instead.\n",
      "\n",
      "WARNING:tensorflow:From C:\\Users\\Dell\\Anaconda3\\lib\\site-packages\\keras\\backend\\tensorflow_backend.py:4138: The name tf.random_uniform is deprecated. Please use tf.random.uniform instead.\n",
      "\n"
     ]
    },
    {
     "name": "stderr",
     "output_type": "stream",
     "text": [
      "C:\\Users\\Dell\\Anaconda3\\lib\\site-packages\\ipykernel_launcher.py:2: UserWarning: Update your `Dense` call to the Keras 2 API: `Dense(kernel_initializer=\"uniform\", activation=\"relu\", input_dim=11, units=6)`\n",
      "  \n"
     ]
    }
   ],
   "source": [
    "# Adding the input layer and the first hidden layer\n",
    "classifier.add(Dense(output_dim = 6, kernel_initializer = 'uniform', activation = 'relu', input_dim = 11))"
   ]
  },
  {
   "cell_type": "code",
   "execution_count": 16,
   "metadata": {},
   "outputs": [
    {
     "name": "stderr",
     "output_type": "stream",
     "text": [
      "C:\\Users\\Dell\\Anaconda3\\lib\\site-packages\\ipykernel_launcher.py:2: UserWarning: Update your `Dense` call to the Keras 2 API: `Dense(kernel_initializer=\"uniform\", activation=\"relu\", units=6)`\n",
      "  \n"
     ]
    }
   ],
   "source": [
    "# Adding the second hidden layer\n",
    "classifier.add(Dense(output_dim = 6, kernel_initializer = 'uniform', activation = 'relu'))"
   ]
  },
  {
   "cell_type": "code",
   "execution_count": 17,
   "metadata": {},
   "outputs": [
    {
     "name": "stderr",
     "output_type": "stream",
     "text": [
      "C:\\Users\\Dell\\Anaconda3\\lib\\site-packages\\ipykernel_launcher.py:2: UserWarning: Update your `Dense` call to the Keras 2 API: `Dense(kernel_initializer=\"uniform\", activation=\"sigmoid\", units=1)`\n",
      "  \n"
     ]
    }
   ],
   "source": [
    "# Adding the output layer\n",
    "classifier.add(Dense(output_dim = 1, kernel_initializer = 'uniform', activation = 'sigmoid'))"
   ]
  },
  {
   "cell_type": "markdown",
   "metadata": {},
   "source": [
    "## 7. After adding all the layers compile the ANN\n"
   ]
  },
  {
   "cell_type": "code",
   "execution_count": 18,
   "metadata": {},
   "outputs": [
    {
     "name": "stdout",
     "output_type": "stream",
     "text": [
      "WARNING:tensorflow:From C:\\Users\\Dell\\Anaconda3\\lib\\site-packages\\keras\\optimizers.py:790: The name tf.train.Optimizer is deprecated. Please use tf.compat.v1.train.Optimizer instead.\n",
      "\n",
      "WARNING:tensorflow:From C:\\Users\\Dell\\Anaconda3\\lib\\site-packages\\keras\\backend\\tensorflow_backend.py:3376: The name tf.log is deprecated. Please use tf.math.log instead.\n",
      "\n",
      "WARNING:tensorflow:From C:\\Users\\Dell\\Anaconda3\\lib\\site-packages\\tensorflow_core\\python\\ops\\nn_impl.py:183: where (from tensorflow.python.ops.array_ops) is deprecated and will be removed in a future version.\n",
      "Instructions for updating:\n",
      "Use tf.where in 2.0, which has the same broadcast rule as np.where\n"
     ]
    }
   ],
   "source": [
    "# Compiling the ANN\n",
    "classifier.compile(optimizer = 'adam', loss = 'binary_crossentropy', metrics = ['accuracy'])"
   ]
  },
  {
   "cell_type": "markdown",
   "metadata": {},
   "source": [
    "## 8. Choosing epochs and running the model"
   ]
  },
  {
   "cell_type": "code",
   "execution_count": 19,
   "metadata": {},
   "outputs": [
    {
     "name": "stdout",
     "output_type": "stream",
     "text": [
      "WARNING:tensorflow:From C:\\Users\\Dell\\Anaconda3\\lib\\site-packages\\keras\\backend\\tensorflow_backend.py:986: The name tf.assign_add is deprecated. Please use tf.compat.v1.assign_add instead.\n",
      "\n",
      "WARNING:tensorflow:From C:\\Users\\Dell\\Anaconda3\\lib\\site-packages\\keras\\backend\\tensorflow_backend.py:973: The name tf.assign is deprecated. Please use tf.compat.v1.assign instead.\n",
      "\n",
      "WARNING:tensorflow:From C:\\Users\\Dell\\Anaconda3\\lib\\site-packages\\keras\\backend\\tensorflow_backend.py:2741: The name tf.Session is deprecated. Please use tf.compat.v1.Session instead.\n",
      "\n",
      "Epoch 1/100\n",
      "WARNING:tensorflow:From C:\\Users\\Dell\\Anaconda3\\lib\\site-packages\\keras\\backend\\tensorflow_backend.py:174: The name tf.get_default_session is deprecated. Please use tf.compat.v1.get_default_session instead.\n",
      "\n",
      "WARNING:tensorflow:From C:\\Users\\Dell\\Anaconda3\\lib\\site-packages\\keras\\backend\\tensorflow_backend.py:181: The name tf.ConfigProto is deprecated. Please use tf.compat.v1.ConfigProto instead.\n",
      "\n",
      "WARNING:tensorflow:From C:\\Users\\Dell\\Anaconda3\\lib\\site-packages\\keras\\backend\\tensorflow_backend.py:190: The name tf.global_variables is deprecated. Please use tf.compat.v1.global_variables instead.\n",
      "\n",
      "WARNING:tensorflow:From C:\\Users\\Dell\\Anaconda3\\lib\\site-packages\\keras\\backend\\tensorflow_backend.py:199: The name tf.is_variable_initialized is deprecated. Please use tf.compat.v1.is_variable_initialized instead.\n",
      "\n",
      "WARNING:tensorflow:From C:\\Users\\Dell\\Anaconda3\\lib\\site-packages\\keras\\backend\\tensorflow_backend.py:206: The name tf.variables_initializer is deprecated. Please use tf.compat.v1.variables_initializer instead.\n",
      "\n",
      "8000/8000 [==============================] - 5s 625us/step - loss: 0.4841 - acc: 0.7951\n",
      "Epoch 2/100\n",
      "8000/8000 [==============================] - 1s 148us/step - loss: 0.4285 - acc: 0.7960\n",
      "Epoch 3/100\n",
      "8000/8000 [==============================] - 1s 173us/step - loss: 0.4234 - acc: 0.7960\n",
      "Epoch 4/100\n",
      "8000/8000 [==============================] - 1s 151us/step - loss: 0.4194 - acc: 0.8160\n",
      "Epoch 5/100\n",
      "8000/8000 [==============================] - 1s 148us/step - loss: 0.4166 - acc: 0.8261\n",
      "Epoch 6/100\n",
      "8000/8000 [==============================] - 1s 149us/step - loss: 0.4148 - acc: 0.8294\n",
      "Epoch 7/100\n",
      "8000/8000 [==============================] - 1s 157us/step - loss: 0.4133 - acc: 0.8316\n",
      "Epoch 8/100\n",
      "8000/8000 [==============================] - 1s 164us/step - loss: 0.4119 - acc: 0.8331\n",
      "Epoch 9/100\n",
      "8000/8000 [==============================] - 1s 162us/step - loss: 0.4112 - acc: 0.8322\n",
      "Epoch 10/100\n",
      "8000/8000 [==============================] - 1s 145us/step - loss: 0.4104 - acc: 0.8330\n",
      "Epoch 11/100\n",
      "8000/8000 [==============================] - 1s 150us/step - loss: 0.4094 - acc: 0.8326\n",
      "Epoch 12/100\n",
      "8000/8000 [==============================] - 1s 154us/step - loss: 0.4095 - acc: 0.8322\n",
      "Epoch 13/100\n",
      "8000/8000 [==============================] - 1s 154us/step - loss: 0.4086 - acc: 0.8350\n",
      "Epoch 14/100\n",
      "8000/8000 [==============================] - 2s 190us/step - loss: 0.4076 - acc: 0.8339\n",
      "Epoch 15/100\n",
      "8000/8000 [==============================] - 1s 146us/step - loss: 0.4069 - acc: 0.8344\n",
      "Epoch 16/100\n",
      "8000/8000 [==============================] - 1s 166us/step - loss: 0.4062 - acc: 0.8336\n",
      "Epoch 17/100\n",
      "8000/8000 [==============================] - 1s 148us/step - loss: 0.4058 - acc: 0.8322\n",
      "Epoch 18/100\n",
      "8000/8000 [==============================] - 1s 166us/step - loss: 0.4039 - acc: 0.8334\n",
      "Epoch 19/100\n",
      "8000/8000 [==============================] - 1s 156us/step - loss: 0.4029 - acc: 0.8346\n",
      "Epoch 20/100\n",
      "8000/8000 [==============================] - 1s 150us/step - loss: 0.4023 - acc: 0.8330\n",
      "Epoch 21/100\n",
      "8000/8000 [==============================] - 1s 148us/step - loss: 0.4014 - acc: 0.8359\n",
      "Epoch 22/100\n",
      "8000/8000 [==============================] - 1s 154us/step - loss: 0.4004 - acc: 0.8350\n",
      "Epoch 23/100\n",
      "8000/8000 [==============================] - 1s 146us/step - loss: 0.4002 - acc: 0.8336\n",
      "Epoch 24/100\n",
      "8000/8000 [==============================] - 1s 146us/step - loss: 0.4002 - acc: 0.8356\n",
      "Epoch 25/100\n",
      "8000/8000 [==============================] - 1s 147us/step - loss: 0.3992 - acc: 0.8350\n",
      "Epoch 26/100\n",
      "8000/8000 [==============================] - 1s 165us/step - loss: 0.3993 - acc: 0.8359\n",
      "Epoch 27/100\n",
      "8000/8000 [==============================] - 1s 182us/step - loss: 0.3983 - acc: 0.8355\n",
      "Epoch 28/100\n",
      "8000/8000 [==============================] - 1s 150us/step - loss: 0.3982 - acc: 0.8351\n",
      "Epoch 29/100\n",
      "8000/8000 [==============================] - 1s 145us/step - loss: 0.3979 - acc: 0.8335\n",
      "Epoch 30/100\n",
      "8000/8000 [==============================] - 1s 145us/step - loss: 0.3977 - acc: 0.8352\n",
      "Epoch 31/100\n",
      "8000/8000 [==============================] - 1s 146us/step - loss: 0.3975 - acc: 0.8342\n",
      "Epoch 32/100\n",
      "8000/8000 [==============================] - 1s 146us/step - loss: 0.3971 - acc: 0.8349\n",
      "Epoch 33/100\n",
      "8000/8000 [==============================] - 1s 145us/step - loss: 0.3974 - acc: 0.8331\n",
      "Epoch 34/100\n",
      "8000/8000 [==============================] - 1s 148us/step - loss: 0.3972 - acc: 0.8347\n",
      "Epoch 35/100\n",
      "8000/8000 [==============================] - 1s 156us/step - loss: 0.3960 - acc: 0.8357\n",
      "Epoch 36/100\n",
      "8000/8000 [==============================] - 1s 146us/step - loss: 0.3961 - acc: 0.8342\n",
      "Epoch 37/100\n",
      "8000/8000 [==============================] - 1s 146us/step - loss: 0.3968 - acc: 0.8325\n",
      "Epoch 38/100\n",
      "8000/8000 [==============================] - 1s 150us/step - loss: 0.3968 - acc: 0.8354\n",
      "Epoch 39/100\n",
      "8000/8000 [==============================] - 1s 152us/step - loss: 0.3958 - acc: 0.8339\n",
      "Epoch 40/100\n",
      "8000/8000 [==============================] - 1s 187us/step - loss: 0.3953 - acc: 0.8340\n",
      "Epoch 41/100\n",
      "8000/8000 [==============================] - 1s 154us/step - loss: 0.3965 - acc: 0.8341\n",
      "Epoch 42/100\n",
      "8000/8000 [==============================] - 1s 149us/step - loss: 0.3961 - acc: 0.8344\n",
      "Epoch 43/100\n",
      "8000/8000 [==============================] - 1s 149us/step - loss: 0.3963 - acc: 0.8362\n",
      "Epoch 44/100\n",
      "8000/8000 [==============================] - 1s 159us/step - loss: 0.3959 - acc: 0.8336\n",
      "Epoch 45/100\n",
      "8000/8000 [==============================] - 1s 158us/step - loss: 0.3962 - acc: 0.8365\n",
      "Epoch 46/100\n",
      "8000/8000 [==============================] - 1s 150us/step - loss: 0.3963 - acc: 0.8342\n",
      "Epoch 47/100\n",
      "8000/8000 [==============================] - 1s 149us/step - loss: 0.3956 - acc: 0.8366\n",
      "Epoch 48/100\n",
      "8000/8000 [==============================] - 1s 151us/step - loss: 0.3958 - acc: 0.8335\n",
      "Epoch 49/100\n",
      "8000/8000 [==============================] - 1s 150us/step - loss: 0.3960 - acc: 0.8354\n",
      "Epoch 50/100\n",
      "8000/8000 [==============================] - 1s 150us/step - loss: 0.3959 - acc: 0.8351\n",
      "Epoch 51/100\n",
      "8000/8000 [==============================] - 1s 146us/step - loss: 0.3961 - acc: 0.8359\n",
      "Epoch 52/100\n",
      "8000/8000 [==============================] - 1s 175us/step - loss: 0.3958 - acc: 0.8344\n",
      "Epoch 53/100\n",
      "8000/8000 [==============================] - 1s 180us/step - loss: 0.3957 - acc: 0.8369\n",
      "Epoch 54/100\n",
      "8000/8000 [==============================] - 1s 162us/step - loss: 0.3952 - acc: 0.8346\n",
      "Epoch 55/100\n",
      "8000/8000 [==============================] - 1s 164us/step - loss: 0.3954 - acc: 0.8351\n",
      "Epoch 56/100\n",
      "8000/8000 [==============================] - 1s 147us/step - loss: 0.3956 - acc: 0.8336\n",
      "Epoch 57/100\n",
      "8000/8000 [==============================] - 1s 149us/step - loss: 0.3960 - acc: 0.8352\n",
      "Epoch 58/100\n",
      "8000/8000 [==============================] - 1s 145us/step - loss: 0.3955 - acc: 0.8345\n",
      "Epoch 59/100\n",
      "8000/8000 [==============================] - 1s 149us/step - loss: 0.3957 - acc: 0.8367\n",
      "Epoch 60/100\n",
      "8000/8000 [==============================] - 1s 146us/step - loss: 0.3955 - acc: 0.8350\n",
      "Epoch 61/100\n",
      "8000/8000 [==============================] - 1s 149us/step - loss: 0.3957 - acc: 0.8347\n",
      "Epoch 62/100\n",
      "8000/8000 [==============================] - 1s 150us/step - loss: 0.3957 - acc: 0.8350 1s - loss:\n",
      "Epoch 63/100\n",
      "8000/8000 [==============================] - 1s 148us/step - loss: 0.3952 - acc: 0.8354\n",
      "Epoch 64/100\n",
      "8000/8000 [==============================] - 1s 147us/step - loss: 0.3956 - acc: 0.8352\n",
      "Epoch 65/100\n",
      "8000/8000 [==============================] - 1s 157us/step - loss: 0.3952 - acc: 0.8335\n",
      "Epoch 66/100\n"
     ]
    },
    {
     "name": "stdout",
     "output_type": "stream",
     "text": [
      "8000/8000 [==============================] - 1s 175us/step - loss: 0.3954 - acc: 0.8352\n",
      "Epoch 67/100\n",
      "8000/8000 [==============================] - 1s 144us/step - loss: 0.3958 - acc: 0.8332\n",
      "Epoch 68/100\n",
      "8000/8000 [==============================] - 1s 142us/step - loss: 0.3954 - acc: 0.8346\n",
      "Epoch 69/100\n",
      "8000/8000 [==============================] - 1s 153us/step - loss: 0.3951 - acc: 0.8344\n",
      "Epoch 70/100\n",
      "8000/8000 [==============================] - 1s 162us/step - loss: 0.3950 - acc: 0.8367\n",
      "Epoch 71/100\n",
      "8000/8000 [==============================] - 1s 153us/step - loss: 0.3954 - acc: 0.8347\n",
      "Epoch 72/100\n",
      "8000/8000 [==============================] - 1s 149us/step - loss: 0.3954 - acc: 0.8355\n",
      "Epoch 73/100\n",
      "8000/8000 [==============================] - 1s 150us/step - loss: 0.3951 - acc: 0.8361\n",
      "Epoch 74/100\n",
      "8000/8000 [==============================] - 1s 150us/step - loss: 0.3947 - acc: 0.8364\n",
      "Epoch 75/100\n",
      "8000/8000 [==============================] - 1s 171us/step - loss: 0.3953 - acc: 0.8345\n",
      "Epoch 76/100\n",
      "8000/8000 [==============================] - 1s 163us/step - loss: 0.3949 - acc: 0.8355\n",
      "Epoch 77/100\n",
      "8000/8000 [==============================] - 1s 152us/step - loss: 0.3952 - acc: 0.8355\n",
      "Epoch 78/100\n",
      "8000/8000 [==============================] - 1s 160us/step - loss: 0.3958 - acc: 0.8339\n",
      "Epoch 79/100\n",
      "8000/8000 [==============================] - 2s 190us/step - loss: 0.3944 - acc: 0.8349\n",
      "Epoch 80/100\n",
      "8000/8000 [==============================] - 1s 149us/step - loss: 0.3952 - acc: 0.8356\n",
      "Epoch 81/100\n",
      "8000/8000 [==============================] - 1s 147us/step - loss: 0.3946 - acc: 0.8364\n",
      "Epoch 82/100\n",
      "8000/8000 [==============================] - 1s 146us/step - loss: 0.3951 - acc: 0.8345\n",
      "Epoch 83/100\n",
      "8000/8000 [==============================] - 1s 146us/step - loss: 0.3946 - acc: 0.8361\n",
      "Epoch 84/100\n",
      "8000/8000 [==============================] - 1s 155us/step - loss: 0.3955 - acc: 0.8339\n",
      "Epoch 85/100\n",
      "8000/8000 [==============================] - 1s 145us/step - loss: 0.3952 - acc: 0.8334\n",
      "Epoch 86/100\n",
      "8000/8000 [==============================] - 1s 152us/step - loss: 0.3950 - acc: 0.8340\n",
      "Epoch 87/100\n",
      "8000/8000 [==============================] - 1s 145us/step - loss: 0.3947 - acc: 0.8330\n",
      "Epoch 88/100\n",
      "8000/8000 [==============================] - 1s 156us/step - loss: 0.3951 - acc: 0.8341\n",
      "Epoch 89/100\n",
      "8000/8000 [==============================] - 1s 171us/step - loss: 0.3949 - acc: 0.8351\n",
      "Epoch 90/100\n",
      "8000/8000 [==============================] - 1s 180us/step - loss: 0.3948 - acc: 0.8364\n",
      "Epoch 91/100\n",
      "8000/8000 [==============================] - 2s 196us/step - loss: 0.3950 - acc: 0.8344\n",
      "Epoch 92/100\n",
      "8000/8000 [==============================] - 2s 190us/step - loss: 0.3945 - acc: 0.8356\n",
      "Epoch 93/100\n",
      "8000/8000 [==============================] - 1s 142us/step - loss: 0.3946 - acc: 0.8355\n",
      "Epoch 94/100\n",
      "8000/8000 [==============================] - 1s 146us/step - loss: 0.3947 - acc: 0.8342\n",
      "Epoch 95/100\n",
      "8000/8000 [==============================] - 1s 139us/step - loss: 0.3948 - acc: 0.8357\n",
      "Epoch 96/100\n",
      "8000/8000 [==============================] - 1s 132us/step - loss: 0.3943 - acc: 0.8352\n",
      "Epoch 97/100\n",
      "8000/8000 [==============================] - 1s 131us/step - loss: 0.3950 - acc: 0.8362\n",
      "Epoch 98/100\n",
      "8000/8000 [==============================] - 1s 131us/step - loss: 0.3945 - acc: 0.8367\n",
      "Epoch 99/100\n",
      "8000/8000 [==============================] - 1s 141us/step - loss: 0.3950 - acc: 0.8361\n",
      "Epoch 100/100\n",
      "8000/8000 [==============================] - 1s 137us/step - loss: 0.3946 - acc: 0.8341\n"
     ]
    },
    {
     "data": {
      "text/plain": [
       "<keras.callbacks.History at 0x18e72eb1808>"
      ]
     },
     "execution_count": 19,
     "metadata": {},
     "output_type": "execute_result"
    }
   ],
   "source": [
    "# Fitting the ANN to the Training set\n",
    "classifier.fit(X_train, y_train, batch_size = 10, epochs = 100)"
   ]
  },
  {
   "cell_type": "markdown",
   "metadata": {},
   "source": [
    "# Part 3 - Making predictions and evaluating the model"
   ]
  },
  {
   "cell_type": "code",
   "execution_count": 20,
   "metadata": {},
   "outputs": [],
   "source": [
    "# Predicting the Test set results\n",
    "y_pred = classifier.predict(X_test)\n",
    "# As the prediction will be in probabilities we have to put thresshold and make it as 0 or 1\n",
    "y_pred = (y_pred > 0.5)"
   ]
  },
  {
   "cell_type": "code",
   "execution_count": 21,
   "metadata": {},
   "outputs": [],
   "source": [
    "from sklearn.metrics import confusion_matrix\n",
    "cm = confusion_matrix(y_test, y_pred)"
   ]
  },
  {
   "cell_type": "code",
   "execution_count": 22,
   "metadata": {},
   "outputs": [
    {
     "data": {
      "text/plain": [
       "array([[1544,   51],\n",
       "       [ 263,  142]], dtype=int64)"
      ]
     },
     "execution_count": 22,
     "metadata": {},
     "output_type": "execute_result"
    }
   ],
   "source": [
    "cm"
   ]
  },
  {
   "cell_type": "code",
   "execution_count": 24,
   "metadata": {},
   "outputs": [
    {
     "data": {
      "text/plain": [
       "0.843"
      ]
     },
     "execution_count": 24,
     "metadata": {},
     "output_type": "execute_result"
    }
   ],
   "source": [
    "(1544+142)/2000"
   ]
  },
  {
   "cell_type": "markdown",
   "metadata": {},
   "source": [
    "# Home Work"
   ]
  },
  {
   "cell_type": "markdown",
   "metadata": {},
   "source": [
    "## We have a new customers which bank gave us who was not present in the original dataset.\n",
    "###  Now we have to predict wheather this new customer will stay or leave.\n",
    "- These are the information given by bank about new customer\n",
    "-# Predicting a single new observation\n",
    "\"\"\"Predict if the customer with the following informations will leave the bank:\n",
    "Geography: France\n",
    "Credit Score: 600\n",
    "Gender: Male\n",
    "Age: 40\n",
    "Tenure: 3\n",
    "Balance: 60000\n",
    "Number of Products: 2\n",
    "Has Credit Card: Yes\n",
    "Is Active Member: Yes\n",
    "Estimated Salary: 50000\"\"\""
   ]
  },
  {
   "cell_type": "markdown",
   "metadata": {},
   "source": [
    "## We can solve this by creating a dataframe of info of new customer or just typing the info in an array and using it same a X_test to predict "
   ]
  },
  {
   "cell_type": "markdown",
   "metadata": {},
   "source": [
    "### We have to put the info of new customer in horizontal manner same as original dataset \n",
    "- np.array([[0.0, 0, 600, 1, 40, 3, 60000, 2, 1, 1, 50000]])))\n",
    "- [[]] double bracket will create 2 dim array and info in horizontal manner"
   ]
  },
  {
   "cell_type": "markdown",
   "metadata": {},
   "source": [
    "## Also we have to scale the data as we did earlier on X_train. using same sc.tranform will give same scaler values"
   ]
  },
  {
   "cell_type": "code",
   "execution_count": 21,
   "metadata": {},
   "outputs": [
    {
     "data": {
      "text/plain": [
       "array([[False]])"
      ]
     },
     "execution_count": 21,
     "metadata": {},
     "output_type": "execute_result"
    }
   ],
   "source": [
    "new_prediction = classifier.predict(sc.transform(np.array([[0.0, 0, 600, 1, 40, 3, 60000, 2, 1, 1, 50000]])))\n",
    "new_prediction = (new_prediction > 0.5)\n",
    "new_prediction"
   ]
  },
  {
   "cell_type": "code",
   "execution_count": null,
   "metadata": {},
   "outputs": [],
   "source": []
  }
 ],
 "metadata": {
  "kernelspec": {
   "display_name": "Python 3",
   "language": "python",
   "name": "python3"
  },
  "language_info": {
   "codemirror_mode": {
    "name": "ipython",
    "version": 3
   },
   "file_extension": ".py",
   "mimetype": "text/x-python",
   "name": "python",
   "nbconvert_exporter": "python",
   "pygments_lexer": "ipython3",
   "version": "3.7.4"
  }
 },
 "nbformat": 4,
 "nbformat_minor": 2
}
